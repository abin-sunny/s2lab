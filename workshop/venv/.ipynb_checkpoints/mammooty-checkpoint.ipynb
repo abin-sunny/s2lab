{
 "cells": [
  {
   "cell_type": "code",
   "execution_count": null,
   "id": "345902cb-649b-46b8-bb62-fa329747d327",
   "metadata": {},
   "outputs": [],
   "source": [
    "from bs4 import BeautifulSoup\n",
    "import requests\n",
    "url = \"https://en.wikipedia.org/wiki/Mammootty_filmography\"\n",
    "page = requests.get(url)\n",
    "soup = BeautifulSoup(page.text,'html')\n",
    "table = soup.find_all('table')[3]\n",
    "column_data = table.find_all('tr')[1:]\n",
    "films=[]\n",
    "for row in column_data:\n",
    "    film_title = row.find(\"td\").get_text(strip=True)\n",
    "    films.append(film_title)\n",
    "print(films)\n",
    "with open(\"mammootty_films.txt\", \"w\") as f:\n",
    "    for film in films:\n",
    "        f.write(film + \"\\n\")"
   ]
  }
 ],
 "metadata": {
  "kernelspec": {
   "display_name": "Python 3 (ipykernel)",
   "language": "python",
   "name": "python3"
  },
  "language_info": {
   "codemirror_mode": {
    "name": "ipython",
    "version": 3
   },
   "file_extension": ".py",
   "mimetype": "text/x-python",
   "name": "python",
   "nbconvert_exporter": "python",
   "pygments_lexer": "ipython3",
   "version": "3.11.8"
  }
 },
 "nbformat": 4,
 "nbformat_minor": 5
}
