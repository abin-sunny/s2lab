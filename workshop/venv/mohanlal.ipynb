{
 "cells": [
  {
   "cell_type": "code",
   "execution_count": 11,
   "id": "21abcf84-56fd-4384-8791-7fcd1eeab79b",
   "metadata": {},
   "outputs": [
    {
     "name": "stdout",
     "output_type": "stream",
     "text": [
      "['Manjil Virinja Pookkal', 'Sanchari', 'Thakilu Kottampuram', 'Dhanya', 'Dhruvasangamam', 'Attimari', 'Oothikachiya Ponnu', 'Thenum Vayambum', 'Ahimsa', 'Madrasile Mon', 'Football', 'Kelkkaatha Sabdham', 'Padayottam', 'Enikkum Oru Divasam', 'Aakrosham', 'Enthino Pookunna Pookkal', 'Sindoora Sandhyakku Mounam', 'Ente Mohangal Poovaninju', 'Njan Onnu Parayatte', 'Aa Divasam', 'Kaliyamardanam', 'Sree Ayyappanum Vavarum', 'Kurukkante Kalyanam', 'Visa', 'Hello Madras Girl', 'Ente Katha', 'Bhookambam', 'Guru Dakshina', 'Naseema', 'Kolakkomban', 'Kuyiline Thedi', 'Himavahini', 'Arabikkadal', 'Sesham Kazhchayil', 'Marakkillorikkalum', 'Sandhyakku Virinja Poovu', 'Thaavalam', 'Aadhipathyam', 'Chakravalam Chuvannappol', 'Engane Nee Marakkum', 'Iniyengilum', 'Attakkalasam', 'Kattathe Kilikkoodu', 'Asthram', 'Changatham', 'Oru Mukham Pala Mukham', 'Nanayam', 'Ente Mamattikkuttiyammakku', 'Pinnilavu', 'Akkare', 'Onnanu Nammal', 'Swanthamevide Bandhamevide', 'Vanitha Police', 'Appunni', 'Athirathram', 'Unaroo', 'Kaliyil Alpam Karyam', 'Poochakkoru Mookkuthi', 'Pavam Poornima', 'Lakshmana Rekha', 'Aalkkoottathil Thaniye', 'Vetta', 'Ivide Thudangunnu', 'Kurishuyudham', 'Manasariyathe', 'Thirakal', 'Kilikkonchal', 'Itha Innu Muthal', 'Sreekrishna Parunthu', 'Aduthaduthu', 'Ariyaatha Veethikal', 'Uyarangalil', 'Adiyozhukkukal', 'Oru Kochu Swapnam', 'Avidathepole Ivideyum', 'Nokketha Doorathu Kannum Nattu', 'Omanikkan Ormavaikkan', 'Aram + Aram = Kinnaram', 'Nayakan', 'Njan Piranna Nattil', 'Onnanam Kunnil Oradi Kunnil', 'Anubandham', 'Mulamoottil Adima', 'Vasantha Sena', 'Guruji Oru Vakku', 'Parayanumvayya Parayathirikkanumvayya', 'Angadikkappurathu', 'Koodum Thedi', 'Jeevante Jeevan', 'Adhyayam Onnu Muthal', 'Azhiyatha Bandhangal', 'Boeing Boeing', 'Karimpinpoovinakkare', 'Uyarum Njan Nadake', 'Idanilangal', 'Pathamudayam', 'Rangam', 'Ezhu Muthal Onpathu Vare', 'Kandu Kandarinju', 'Ninnishtam Ennishtam', 'Pappan Priyappetta Pappan', 'Oppam Oppathinoppam', 'Mazha Peyyunnu Maddalam Kottunnu', 'Panchagni', 'Kariyilakkattupole', 'Abhayam Thedi', 'Vartha', 'Geetham', 'Hello My Dear Wrong Number', 'Neram Pularumbol', 'Iniyum Kurukshetrum', 'Kaveri', 'Mizhineerppoovukal', 'Poomukhappadiyil Ninneyum Kathu', 'Nimishangal', 'Doore Doore Oru Koodu Koottam', 'Yuvajanotsavam', 'Shobhraj', 'Onnu Muthal Poojyam Vare', 'Ente Entethu Mathram', 'Padayani', 'Manasilloru Manimuthu', 'Sanmanassullavarkku Samadhanam', 'Adiverukal', 'Deshadanakkili Karayarilla', 'Revathikkoru Pavakkutty', 'Kunjattakkilikal', 'T. P. Balagopalan M.A.', 'Gandhinagar 2nd Street', 'Rajavinte Makan', 'Namukku Parkkan Munthirithoppukal', 'Sukhamo Devi', 'Thalavattam', 'January Oru Orma', 'Amrutham Gamaya', 'Adimakal Udamakal', 'Sarvakalashala', 'Irupatham Noottandu', 'Bhoomiyile Rajakkanmar', 'Unnikale Oru Kadha Parayam', 'Thoovanathumbikal', 'Kaiyethum Doorathu', 'Vazhiyorakkazhcakal', 'Cheppu', 'Nadodikkattu', 'Ivide Ellavarkum Sugham', 'Mukunthetta Sumitra Vilikkunnu', 'Ayitham', 'Manu Uncle', 'Orkkappurathu', 'Paadha Mudra', 'Pattanapravesham', 'Anuragi', 'Aryan', 'Moonnam Mura', 'Vellanakalude Nadu', 'Ulsavapittennu', 'Chithram', 'Lal Americayil', 'Douthyam', 'Season', 'Varavelpu', 'Naduvazhikal', 'Peruvannapurathe Visheshangal', 'Kireedam', 'Vandanam', 'Adhipan', 'Dasharatham', 'Aye Auto', 'Akkare Akkare Akkare', 'No.20 Madras Mail', 'His Highness Abdullah', 'Mukham', 'Kadathanadan Ambadi', 'Thazhvaram', 'Arhatha', 'Indrajaalam', 'Appu', 'Lal Salam', 'Dhanam', 'Gopura Vasalile', 'Bharatham', 'Vasthuhara', 'Vishnulokam', 'Uncle Bun', 'Kilukkam', 'Ulladakkam', 'Kizhakkunarum Pakshi', 'Abhimanyu', 'Sadayam', 'Kamaladalam', 'Aham', 'Rajashilpi', 'Yoddha', 'Adhwaytham', 'Soorya Gayathri', 'Naadody', 'Vietnam Colony', 'Mithunam', 'Devaasuram', 'Butterflies', 'Maya Mayooram', 'Gandharvam', 'Chenkol', 'Kalippattam', 'Manichithrathazhu', 'Pavithram', 'Thenmavin Kombath', 'Pingami', 'Gandeevam', 'Pakshe', 'Minnaram', 'Nirnayam', 'Spadikam', 'Thacholi Varghese Chekavar', 'Manthrikam', 'Agnidevan', 'Kaalapani', 'The Prince', 'Iruvar', 'Varnapakittu', 'Oru Yathramozhi', 'Chandralekha', 'Guru', 'Aaraam Thampuran', 'Kanmadam', 'Harikrishnans', 'Rakthasakshikal Sindabad', 'Ayal Kadha Ezhuthukayanu', 'Summer in Bethlahem', 'Ustaad', 'Olympiyan Anthony Adam', 'Vanaprastham', 'Narasimham', 'Life is Beautiful', 'Sraddha', 'Devadoothan', 'Kakkakuyil', 'Ravanaprabhu', 'Praja', 'Unnathangalil', 'Achaneyanenikkishtam', 'Company', 'Onnaman', 'Thandavam', 'Chathurangam', 'Pop Carn', 'Mr. Brahmachari', 'Kilichundan Mampazham', 'Balettan', 'Hariharan Pilla Happy Aanu', 'Thiranottam', 'Vamanapuram Bus Route', 'Vismayathumbathu', 'Love', 'Wanted', 'Natturajavu', 'Mampazhakkalam', 'Udayananu Tharam', 'Chandrolsavam', 'Udayon', 'Naran', 'Thanmathra', 'Kilukkam Kilukilukkam', 'Rasathanthram', 'Vadakkumnathan', 'Keerthi Chakra', 'Mahasamudram', 'Photographer', 'Baba Kalyani', 'Chotta Mumbai', 'Hallo', 'Alibhai', 'Ram Gopal Varma Ki Aag', 'Paradesi', \"Rock N' Roll\", 'Flash', 'Halla Bol', 'College Kumaran', 'Innathe Chintha Vishayam', 'Mizhikal Sakshi', 'Madampi', 'Aakasha Gopuram', 'Kurukshetra', 'Twenty:20', 'Pakal Nakshatrangal', 'Red Chillies', 'Sagar Alias Jacky Reloaded', 'Bhagavan', 'Bhramaram', 'Unnaipol Oruvan', 'Angel John', 'Evidam Swargamanu', 'Janakan', 'Alexander the Great', 'Oru Naal Varum', 'Shikkar', 'Kandahar', 'Christian Brothers', 'China Town', 'Pranayam', 'Snehaveedu', 'Oru Marubhoomikkadha', 'Casanovva', 'Tezz', 'Grandmaster', 'Spirit', 'Run Baby Run', 'Karmayodha', 'Lokpal', 'Red Wine', 'Ladies and Gentleman', 'Kadal Kadannu Oru Maathukutty', 'Geethaanjali', 'Drishyam', 'Jilla', 'Mr. Fraud', 'Koothara', 'Peruchazhi', 'Rasam', 'Mythri', 'Ennum Eppozhum', 'Lailaa O Lailaa', 'Loham', 'Kanal', 'Manamantha', 'Janatha Garage', 'Oppam', 'Pulimurugan', 'Munthirivallikal Thalirkkumbol', '1971: Beyond Borders', 'Velipadinte Pusthakam', 'Villain', 'Aadhi', 'Neerali', 'Kayamkulam Kochunni', 'Drama', 'Odiyan', 'Lucifer', 'Ittymaani: Made in China', 'Kaappaan', 'Big Brother', 'Drishyam 2', 'Marakkar: Arabikadalinte Simham', 'Bro Daddy', 'Aaraattu', '12th Man', 'Monster', 'Alone', 'Jailer', 'Neru', 'Malaikottai Vaaliban', 'Barroz†', 'Kannappa†', 'Vrushabha†', 'Ram: Part 1†', 'L2: Empuraan†']\n"
     ]
    }
   ],
   "source": [
    "from bs4 import BeautifulSoup\n",
    "import requests\n",
    "url = \"https://en.wikipedia.org/wiki/Mohanlal_filmography\"\n",
    "page = requests.get(url)\n",
    "soup = BeautifulSoup(page.text,'html')\n",
    "table = soup.find_all('table')[1]\n",
    "column_data = table.find_all('tr')[1:]\n",
    "films=[]\n",
    "for row in column_data:\n",
    "    film_title = row.find(\"th\").get_text(strip=True)\n",
    "    films.append(film_title)\n",
    "print(films)"
   ]
  },
  {
   "cell_type": "code",
   "execution_count": 9,
   "id": "33d9ce95-fda6-4d9e-bddf-da324f677602",
   "metadata": {},
   "outputs": [],
   "source": [
    "with open(\"mohanlal_films.txt\", \"w\") as f:\n",
    "    for film in films:\n",
    "        f.write(film + \"\\n\")"
   ]
  },
  {
   "cell_type": "code",
   "execution_count": null,
   "id": "bd250430-aba6-4616-9b5e-bf8bd7fcf34e",
   "metadata": {},
   "outputs": [],
   "source": []
  }
 ],
 "metadata": {
  "kernelspec": {
   "display_name": "Python 3 (ipykernel)",
   "language": "python",
   "name": "python3"
  },
  "language_info": {
   "codemirror_mode": {
    "name": "ipython",
    "version": 3
   },
   "file_extension": ".py",
   "mimetype": "text/x-python",
   "name": "python",
   "nbconvert_exporter": "python",
   "pygments_lexer": "ipython3",
   "version": "3.11.8"
  }
 },
 "nbformat": 4,
 "nbformat_minor": 5
}
