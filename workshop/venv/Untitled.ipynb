{
 "cells": [
  {
   "cell_type": "code",
   "execution_count": 1,
   "id": "8dc24dce-3b51-47df-a803-33ddff4ae5c2",
   "metadata": {},
   "outputs": [
    {
     "ename": "NameError",
     "evalue": "name 'BeautifulSoup' is not defined",
     "output_type": "error",
     "traceback": [
      "\u001b[0;31m---------------------------------------------------------------------------\u001b[0m",
      "\u001b[0;31mNameError\u001b[0m                                 Traceback (most recent call last)",
      "Cell \u001b[0;32mIn[1], line 11\u001b[0m\n\u001b[1;32m      8\u001b[0m     \u001b[38;5;28;01mreturn\u001b[39;00m res\u001b[38;5;241m.\u001b[39mtext\n\u001b[1;32m      9\u001b[0m res\u001b[38;5;241m=\u001b[39mget_page(URL)\n\u001b[0;32m---> 11\u001b[0m soup\u001b[38;5;241m=\u001b[39m\u001b[43mBeautifulSoup\u001b[49m(res,\u001b[38;5;124m\"\u001b[39m\u001b[38;5;124mhtml.parser\u001b[39m\u001b[38;5;124m\"\u001b[39m)\n\u001b[1;32m     12\u001b[0m \u001b[38;5;28mprint\u001b[39m(soup\u001b[38;5;241m.\u001b[39mfind(\u001b[38;5;124m\"\u001b[39m\u001b[38;5;124mul\u001b[39m\u001b[38;5;124m\"\u001b[39m, class_\u001b[38;5;241m=\u001b[39m\u001b[38;5;124m\"\u001b[39m\u001b[38;5;124mipc-metadata-list ipc-metadata-list--dividers-between\u001b[39m\u001b[38;5;124m\"\u001b[39m)) \n",
      "\u001b[0;31mNameError\u001b[0m: name 'BeautifulSoup' is not defined"
     ]
    }
   ],
   "source": [
    "import requests\n",
    "URL=\"https://www.imdb.com/chart/top/\"\n",
    "def get_page(url):\n",
    "    headers={\n",
    "        \"User-Agent\":\"Mozilla/5.0 (X11; Linux x86_64; rv:109.0) Gecko/20100101 Firefox/115.0\"\n",
    "    }\n",
    "    res=requests.get(url,headers=headers)\n",
    "    return res.text\n",
    "res=get_page(URL)\n",
    "\n",
    "soup=BeautifulSoup(res,\"html.parser\")\n",
    "print(soup.find(\"ul\", class_=\"ipc-metadata-list ipc-metadata-list--dividers-between\")) "
   ]
  },
  {
   "cell_type": "code",
   "execution_count": 3,
   "id": "bd711709-e478-469a-8ed1-1e4349910731",
   "metadata": {},
   "outputs": [
    {
     "name": "stdout",
     "output_type": "stream",
     "text": [
      "Requirement already satisfied: beautifulsoup4 in ./lib/python3.11/site-packages (4.12.3)\n",
      "Requirement already satisfied: requests in ./lib/python3.11/site-packages (2.31.0)\n",
      "Requirement already satisfied: soupsieve>1.2 in ./lib/python3.11/site-packages (from beautifulsoup4) (2.5)\n",
      "Requirement already satisfied: charset-normalizer<4,>=2 in ./lib/python3.11/site-packages (from requests) (3.3.2)\n",
      "Requirement already satisfied: idna<4,>=2.5 in ./lib/python3.11/site-packages (from requests) (3.6)\n",
      "Requirement already satisfied: urllib3<3,>=1.21.1 in ./lib/python3.11/site-packages (from requests) (2.2.1)\n",
      "Requirement already satisfied: certifi>=2017.4.17 in ./lib/python3.11/site-packages (from requests) (2024.2.2)\n"
     ]
    }
   ],
   "source": [
    "!pip3 install beautifulsoup4 requests"
   ]
  },
  {
   "cell_type": "code",
   "execution_count": null,
   "id": "1d104e80-0793-4ecb-a5f5-972eb80bd675",
   "metadata": {},
   "outputs": [],
   "source": []
  }
 ],
 "metadata": {
  "kernelspec": {
   "display_name": "Python 3 (ipykernel)",
   "language": "python",
   "name": "python3"
  },
  "language_info": {
   "codemirror_mode": {
    "name": "ipython",
    "version": 3
   },
   "file_extension": ".py",
   "mimetype": "text/x-python",
   "name": "python",
   "nbconvert_exporter": "python",
   "pygments_lexer": "ipython3",
   "version": "3.11.8"
  }
 },
 "nbformat": 4,
 "nbformat_minor": 5
}
